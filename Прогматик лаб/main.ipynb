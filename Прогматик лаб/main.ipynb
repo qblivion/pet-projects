{
 "cells": [
  {
   "cell_type": "markdown",
   "metadata": {},
   "source": [
    "Условие:\n",
    "\n",
    "Напишите, пожалуйста, программу на любом языке программирования, которая поместит + (2+3), - (3-2), или ничего ( ) в промежутках между цифрами от 9 до 0 (в таком порядке) так, чтобы в результате получилось 200. Например: 98+76-5+43-2-10=200."
   ]
  },
  {
   "cell_type": "code",
   "execution_count": 8,
   "metadata": {},
   "outputs": [
    {
     "name": "stdout",
     "output_type": "stream",
     "text": [
      "9+87-65-43+2+10 = 200\n",
      "9+87-65-43+2-10 = 200\n",
      "9-8+7-6-5-4-3+210 = 200\n",
      "9-8-7-6-5+4+3+210 = 200\n"
     ]
    }
   ],
   "source": [
    "def find_expression(target, numbers, current_expression=\"\", current_value=0, last_value=0, last_operator=\"\"):\n",
    "    if not numbers:\n",
    "        if current_value == target:\n",
    "            print(f\"{current_expression} = {target}\")\n",
    "        return\n",
    "    \n",
    "    number = numbers[0]\n",
    "    if current_expression:\n",
    "        # Складываем\n",
    "        find_expression(target, numbers[1:], f\"{current_expression}+{number}\", current_value+number, number, \"+\")\n",
    "        # Вычитаем\n",
    "        find_expression(target, numbers[1:], f\"{current_expression}-{number}\", current_value-number, -number, \"-\")\n",
    "        # \"Склеиваем\"\n",
    "        if last_operator == \"+\":\n",
    "            find_expression(target, numbers[1:], f\"{current_expression}{number}\",\n",
    "                            current_value - last_value + (last_value*10 + number), last_value*10 + number, last_operator)\n",
    "        elif last_operator == \"-\":\n",
    "            find_expression(target, numbers[1:], f\"{current_expression}{number}\",\n",
    "                            current_value - last_value - (last_value*10 + number), -(last_value*10 + number), last_operator)\n",
    "    else:\n",
    "        find_expression(target, numbers[1:], f\"{number}\", number, number)\n",
    "\n",
    "# Start the search\n",
    "find_expression(200, [i for i in range(9, -1, -1)])\n",
    "\n"
   ]
  },
  {
   "cell_type": "markdown",
   "metadata": {},
   "source": [
    "Посмотрим сколько выполняется задача"
   ]
  },
  {
   "cell_type": "code",
   "execution_count": 9,
   "metadata": {},
   "outputs": [
    {
     "name": "stdout",
     "output_type": "stream",
     "text": [
      "9+87-65-43+2+10 = 200\n",
      "9+87-65-43+2-10 = 200\n",
      "9-8+7-6-5-4-3+210 = 200\n",
      "9-8-7-6-5+4+3+210 = 200\n",
      "Выполнение заняло  0.02 секунд.\n"
     ]
    }
   ],
   "source": [
    "import time\n",
    "\n",
    "start = time.perf_counter()\n",
    "find_expression(200, [i for i in range(9, -1, -1)])\n",
    "finish = time.perf_counter()\n",
    "print(f'Выполнение заняло {finish-start: .2f} секунд.')"
   ]
  },
  {
   "cell_type": "markdown",
   "metadata": {},
   "source": [
    "Можно было бы пытаться ускорить решение задачи, однако для данных вводных оно не требуется.\n",
    "\n",
    "Сложность алгоритма экспоненциальная\n"
   ]
  }
 ],
 "metadata": {
  "kernelspec": {
   "display_name": "Python 3",
   "language": "python",
   "name": "python3"
  },
  "language_info": {
   "codemirror_mode": {
    "name": "ipython",
    "version": 3
   },
   "file_extension": ".py",
   "mimetype": "text/x-python",
   "name": "python",
   "nbconvert_exporter": "python",
   "pygments_lexer": "ipython3",
   "version": "3.11.2"
  }
 },
 "nbformat": 4,
 "nbformat_minor": 2
}
